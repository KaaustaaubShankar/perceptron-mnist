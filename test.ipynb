{
 "cells": [
  {
   "cell_type": "code",
   "execution_count": 2,
   "metadata": {},
   "outputs": [],
   "source": [
    "import pandas as pd\n",
    "import numpy as np\n",
    "import matplotlib.pyplot as plt"
   ]
  },
  {
   "cell_type": "code",
   "execution_count": 3,
   "metadata": {},
   "outputs": [],
   "source": [
    "#processing the data\n",
    "data = np.loadtxt('HW3_datafiles/MNISTnumImages5000_balanced.txt')\n",
    "data = data.reshape((5000, 28, 28))"
   ]
  },
  {
   "cell_type": "code",
   "execution_count": 4,
   "metadata": {},
   "outputs": [
    {
     "data": {
      "image/png": "[encoded data removed]",
      "text/plain": [
       "<Figure size 640x480 with 2 Axes>"
      ]
     },
     "metadata": {},
     "output_type": "display_data"
    }
   ],
   "source": [
    "#plotting the data\n",
    "plt.imshow(data[0], cmap='hot')\n",
    "plt.title('First Entry in Data - Heatmap')\n",
    "plt.colorbar()\n",
    "plt.show()"
   ]
  },
  {
   "cell_type": "code",
   "execution_count": 5,
   "metadata": {},
   "outputs": [
    {
     "data": {
      "text/plain": [
       "(400, 100, 400, 100)"
      ]
     },
     "execution_count": 5,
     "metadata": {},
     "output_type": "execute_result"
    }
   ],
   "source": [
    "zeroes_train, zeroes_test = data[:400], data[400:500]\n",
    "ones_train, ones_test = data[500:900], data[900:1000]\n",
    "len(zeroes_train), len(zeroes_test), len(ones_train), len(ones_test)    "
   ]
  },
  {
   "cell_type": "code",
   "execution_count": 6,
   "metadata": {},
   "outputs": [
    {
     "name": "stdout",
     "output_type": "stream",
     "text": [
      "                                                data  label\n",
      "0  [[0.0, 0.0, 0.0, 0.0, 0.0, 0.0, 0.0, 0.0, 0.0,...    0.0\n",
      "1  [[0.0, 0.0, 0.0, 0.0, 0.0, 0.0, 0.0, 0.0, 0.0,...    1.0\n",
      "2  [[0.0, 0.0, 0.0, 0.0, 0.0, 0.0, 0.0, 0.0, 0.0,...    1.0\n",
      "3  [[0.0, 0.0, 0.0, 0.0, 0.0, 0.0, 0.0, 0.0, 0.0,...    1.0\n",
      "4  [[0.0, 0.0, 0.0, 0.0, 0.0, 0.0, 0.0, 0.0, 0.0,...    0.0\n",
      "                                                data  label\n",
      "0  [[0.0, 0.0, 0.0, 0.0, 0.0, 0.0, 0.0, 0.0, 0.0,...    1.0\n",
      "1  [[0.0, 0.0, 0.0, 0.0, 0.0, 0.0, 0.0, 0.0, 0.0,...    1.0\n",
      "2  [[0.0, 0.0, 0.0, 0.0, 0.0, 0.0, 0.0, 0.0, 0.0,...    0.0\n",
      "3  [[0.0, 0.0, 0.0, 0.0, 0.0, 0.0, 0.0, 0.0, 0.0,...    0.0\n",
      "4  [[0.0, 0.0, 0.0, 0.0, 0.0, 0.0, 0.0, 0.0, 0.0,...    0.0\n"
     ]
    }
   ],
   "source": [
    "#we make the labels\n",
    "labels_zeroes_train = np.zeros(len(zeroes_train))\n",
    "labels_zeroes_test = np.zeros(len(zeroes_test))\n",
    "labels_ones_train = np.ones(len(ones_train))\n",
    "labels_ones_test = np.ones(len(ones_test))\n",
    "\n",
    "#we concatenate the data and the labels wihtin a np array\n",
    "train_data = np.concatenate((zeroes_train, ones_train), axis=0)\n",
    "train_labels = np.concatenate((labels_zeroes_train, labels_ones_train), axis=0)\n",
    "test_data = np.concatenate((zeroes_test, ones_test), axis=0)\n",
    "test_labels = np.concatenate((labels_zeroes_test, labels_ones_test), axis=0)\n",
    "\n",
    "#make a dataframe\n",
    "train_df = pd.DataFrame({'data': list(train_data), 'label': train_labels})\n",
    "test_df = pd.DataFrame({'data': list(test_data), 'label': test_labels})\n",
    "\n",
    "#shuffle them\n",
    "train_df = train_df.sample(frac=1).reset_index(drop=True)\n",
    "test_df = test_df.sample(frac=1).reset_index(drop=True)\n",
    "\n",
    "#make sure its shuffled\n",
    "print(train_df.head())\n",
    "print(test_df.head())\n",
    "\n"
   ]
  },
  {
   "cell_type": "code",
   "execution_count": 11,
   "metadata": {},
   "outputs": [
    {
     "data": {
      "text/plain": [
       "label\n",
       "2    100\n",
       "3    100\n",
       "4    100\n",
       "5    100\n",
       "6    100\n",
       "7    100\n",
       "8    100\n",
       "9    100\n",
       "Name: count, dtype: int64"
      ]
     },
     "execution_count": 11,
     "metadata": {},
     "output_type": "execute_result"
    }
   ],
   "source": [
    "#grab the data\n",
    "two_challenge,three_challenge,four_challenge, five_challenge, six_challenge, seven_challenge, eight_challenge,nine_challenge = data[1000:1100], data[1500:1600], data[2000:2100], data[2500:2600], data[3000:3100], data[3500:3600], data[4000:4100], data[4500:4600]\n",
    "\n",
    "#grab the labels\n",
    "labels_two_challenge = np.full(100, 2)\n",
    "labels_three_challenge = np.full(100, 3)\n",
    "labels_four_challenge = np.full(100, 4)\n",
    "labels_five_challenge = np.full(100, 5)\n",
    "labels_six_challenge = np.full(100, 6)\n",
    "labels_seven_challenge = np.full(100, 7)\n",
    "labels_eight_challenge = np.full(100, 8)\n",
    "labels_nine_challenge = np.full(100, 9)\n",
    "\n",
    "#concatenate the data and the labels\n",
    "challenge_data = np.concatenate((two_challenge, three_challenge, four_challenge, five_challenge, six_challenge, seven_challenge, eight_challenge, nine_challenge), axis=0)\n",
    "challenge_labels = np.concatenate((labels_two_challenge, labels_three_challenge, labels_four_challenge, labels_five_challenge, labels_six_challenge, labels_seven_challenge, labels_eight_challenge, labels_nine_challenge), axis=0)\n",
    "\n",
    "#make a dataframe\n",
    "challenge_df = pd.DataFrame({'data': list(challenge_data), 'label': challenge_labels})\n",
    "\n",
    "#making sure the numbers look right\n",
    "challenge_df['label'].value_counts()"
   ]
  },
  {
   "cell_type": "code",
   "execution_count": null,
   "metadata": {},
   "outputs": [],
   "source": []
  }
 ],
 "metadata": {
  "kernelspec": {
   "display_name": "perceptron",
   "language": "python",
   "name": "python3"
  },
  "language_info": {
   "codemirror_mode": {
    "name": "ipython",
    "version": 3
   },
   "file_extension": ".py",
   "mimetype": "text/x-python",
   "name": "python",
   "nbconvert_exporter": "python",
   "pygments_lexer": "ipython3",
   "version": "3.9.2"
  }
 },
 "nbformat": 4,
 "nbformat_minor": 2
}
